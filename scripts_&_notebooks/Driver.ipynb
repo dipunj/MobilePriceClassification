{
 "cells": [
  {
   "cell_type": "markdown",
   "metadata": {},
   "source": [
    "# MOBILE PRICE CLASSIFICATION DRIVER"
   ]
  },
  {
   "cell_type": "code",
   "execution_count": null,
   "metadata": {
    "collapsed": true
   },
   "outputs": [],
   "source": [
    "import numpy as np\n",
    "import pandas as pd\n",
    "from sklearn import neural_network\n",
    "from sklearn.preprocessing import StandardScaler,Imputer\n",
    "from sklearn.model_selection import train_test_split\n",
    "from sklearn.metrics import accuracy_score"
   ]
  },
  {
   "cell_type": "code",
   "execution_count": null,
   "metadata": {
    "collapsed": true
   },
   "outputs": [],
   "source": [
    "# objects for later use\n",
    "imp = Imputer(missing_values=0, strategy='mean', axis=0)\n",
    "scaler = StandardScaler()\n",
    "ann = neural_network.MLPClassifier(shuffle=True,\n",
    "                                   hidden_layer_sizes=(17,17),\n",
    "                                   activation=\"logistic\",\n",
    "                                   tol=0,\n",
    "                                   warm_start=True,\n",
    "                                   max_iter=100000, verbose=False,\n",
    "                                   random_state=1000)"
   ]
  },
  {
   "cell_type": "code",
   "execution_count": null,
   "metadata": {
    "collapsed": true
   },
   "outputs": [],
   "source": [
    "def crossValidation(X, y, clf):\n",
    "    \n",
    "    X_train, X_test, y_train, y_test = train_test_split(X, y)\n",
    "    \n",
    "    imp.fit(X_train)\n",
    "    X_train = imp.transform(X_train)\n",
    "    X_test = imp.transform(X_test)\n",
    "    \n",
    "    scaler.fit(X_train)\n",
    "    X_train = scaler.transform(X_train)\n",
    "    X_test = scaler.transform(X_test)\n",
    "    \n",
    "    clf.fit(X_train, y_train)\n",
    "    prediction = clf.predict(X_test)\n",
    "    cv_sc = accuracy_score(y_test, prediction)\n",
    "    tr_sc = accuracy_score(y_train, clf.predict(X_train))\n",
    "    \n",
    "    print(\"CV score :\", 100 * cv_sc)\n",
    "    print(\"CV error :\", 100 / cv_sc - 100)\n",
    "    print(\"Train score :\", 100 * tr_sc)\n",
    "    print(\"Train error :\", 100 / tr_sc - 100, \"%\")\n",
    "    \n",
    "\n",
    "pass\n",
    "\n",
    "def realTEST(X, y, ID_vec, test, clf):\n",
    "\n",
    "    imp.fit(X)\n",
    "    X = imp.transform(X)\n",
    "\n",
    "    scaler.fit(X)\n",
    "    X = scaler.transform(X)\n",
    "\n",
    "    clf.fit(X, y)\n",
    "    predict = clf.predict(scaler.transform(imp.transform(test)))\n",
    "    \n",
    "    predict = predict.round(decimals=2)\n",
    "    predict = predict.reshape(predict.shape[0], 1)\n",
    "    predict = np.concatenate([ID_vec, predict], axis=1)\n",
    "    predict = pd.DataFrame(data=predict, columns=['id', 'price_range'])\n",
    "    \n",
    "    predict.to_csv(\"../answer.csv\", index=False, header=True)"
   ]
  },
  {
   "cell_type": "code",
   "execution_count": null,
   "metadata": {
    "collapsed": true
   },
   "outputs": [],
   "source": [
    "train = pd.read_csv('../data/train.csv')\n",
    "test = pd.read_csv('../data/test.csv')\n",
    "id_vec = np.array(test.loc[:,test.columns == 'id'])\n",
    "\n",
    "# train = train.drop([],axis=1)\n",
    "test = test.drop(['id'],axis=1)\n",
    "\n",
    "X = train.drop(['price_range'],axis=1)\n",
    "y = train['price_range']"
   ]
  },
  {
   "cell_type": "code",
   "execution_count": null,
   "metadata": {
    "collapsed": true
   },
   "outputs": [],
   "source": [
    "train.describe()"
   ]
  },
  {
   "cell_type": "code",
   "execution_count": null,
   "metadata": {
    "collapsed": true
   },
   "outputs": [],
   "source": [
    "fig=plt.figure(figsize=(8, 8), dpi= 80, facecolor='w', edgecolor='k')\n",
    "\n",
    "X_LABEL = ''\n",
    "Y_LABEL = ''\n",
    "\n",
    "plt.xlabel(X_LABEL)\n",
    "plt.ylabel(Y_LABEL)\n",
    "\n",
    "# train.plot(x=X_LABEL,y=Y_LABEL)\n",
    "# train.plot(kind='box', vert=False, positions=[1, 4, 5, 6, 8])\n",
    "plt.scatter(train[Y_LABEL],train[X_LABEL])"
   ]
  },
  {
   "cell_type": "code",
   "execution_count": null,
   "metadata": {
    "collapsed": true
   },
   "outputs": [],
   "source": [
    "crossValidation(X,y,ann)"
   ]
  },
  {
   "cell_type": "code",
   "execution_count": null,
   "metadata": {
    "collapsed": true
   },
   "outputs": [],
   "source": [
    "realTEST(X,y,id_vec,test,ann)"
   ]
  }
 ],
 "metadata": {
  "kernelspec": {
   "display_name": "Python 3",
   "language": "python",
   "name": "python3"
  },
  "language_info": {
   "codemirror_mode": {
    "name": "ipython",
    "version": 3
   },
   "file_extension": ".py",
   "mimetype": "text/x-python",
   "name": "python",
   "nbconvert_exporter": "python",
   "pygments_lexer": "ipython3",
   "version": "3.6.2"
  }
 },
 "nbformat": 4,
 "nbformat_minor": 2
}
